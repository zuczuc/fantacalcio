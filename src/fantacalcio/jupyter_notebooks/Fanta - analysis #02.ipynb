{
 "cells": [
  {
   "cell_type": "code",
   "execution_count": 1,
   "metadata": {
    "collapsed": false
   },
   "outputs": [],
   "source": [
    "import os\n",
    "import sys\n",
    "import pandas as pd\n",
    "import matplotlib.pyplot as plt\n",
    "import seaborn as sns\n",
    "\n",
    "%matplotlib inline\n",
    "\n",
    "sys.path.append(\"C:\\\\Users\\\\zuk-8\\\\Programs\\\\workspace\\\\fantacalcio\\\\src\")\n",
    "# sys.path.append(\"C:\\\\Users\\\\zuk-8\\\\Programs\\\\workspace\\\\fantacalcio\\\\src\\\\fantacalcio\")\n",
    "# sys.path.append(\"C:\\\\Users\\\\zuk-8\\\\Programs\\\\workspace\\\\fantacalcio\\\\src\\\\fantacalcio\\\\config_data\")\n",
    "# sys.path.append(\"C:\\\\Users\\\\zuk-8\\\\Programs\\\\workspace\\\\fantacalcio\\\\src\\\\fantacalcio\\\\data\")\n",
    "\n",
    "from fantacalcio.config_data.config_data import FOLDER_FANTA_INPUT, FANTA_GRADES_FN, FANTA_QUOTES_FN, FANTA_REMAP_FN\n",
    "from fantacalcio.data.general import canceled_matches_grades_to_nan, remap_players\n",
    "from fantacalcio.data.player import Player"
   ]
  },
  {
   "cell_type": "code",
   "execution_count": 2,
   "metadata": {
    "collapsed": false
   },
   "outputs": [],
   "source": [
    "# INPUTS\n",
    "average_grades_by_role = pd.Series({'P':4.5, 'D':5.5, 'C':5.75, 'T':6.2, 'A':6.4})"
   ]
  },
  {
   "cell_type": "code",
   "execution_count": 3,
   "metadata": {
    "collapsed": false
   },
   "outputs": [
    {
     "name": "stderr",
     "output_type": "stream",
     "text": [
      "C:\\Users\\zuk-8\\Programs\\Anaconda3\\envs\\standard\\lib\\site-packages\\ipykernel\\__main__.py:9: DeprecationWarning: \n",
      ".ix is deprecated. Please use\n",
      ".loc for label based indexing or\n",
      ".iloc for positional indexing\n",
      "\n",
      "See the documentation here:\n",
      "http://pandas.pydata.org/pandas-docs/stable/indexing.html#deprecate_ix\n",
      "C:\\Users\\zuk-8\\Programs\\Anaconda3\\envs\\standard\\lib\\site-packages\\ipykernel\\ipkernel.py:196: PerformanceWarning: indexing past lexsort depth may impact performance.\n",
      "  res = shell.run_cell(code, store_history=store_history, silent=silent)\n"
     ]
    }
   ],
   "source": [
    "# DATA\n",
    "GRADES = canceled_matches_grades_to_nan(pd.read_csv(os.path.join(FOLDER_FANTA_INPUT[os.environ['USERNAME']], FANTA_GRADES_FN)))\n",
    "REMAP_PLAYERS = pd.read_csv(os.path.join(FOLDER_FANTA_INPUT[os.environ['USERNAME']], FANTA_REMAP_FN)).\\\n",
    "    set_index('Original')['Final'].to_dict()\n",
    "GRADES = remap_players(GRADES, REMAP_PLAYERS)\n",
    "\n",
    "# Penalties:\n",
    "# 'R'  is the number of scored penalties\n",
    "# 'RS' is the number of missed penalties, only for players and not for gks\n",
    "penalty_y = GRADES.ix[~GRADES['R'].map(pd.np.isnan)]\n",
    "penalty_n = GRADES.ix[~GRADES['RS'].map(pd.np.isnan)]\n",
    "GRADES = GRADES.set_value(penalty_y.index, col=['FantaVoto'], value=penalty_y['FantaVoto']-penalty_y['R']*3)\n",
    "GRADES = GRADES.set_value(penalty_n.index, col=['FantaVoto'], value=penalty_y['FantaVoto']+penalty_y['RS']*3)\n"
   ]
  },
  {
   "cell_type": "code",
   "execution_count": 4,
   "metadata": {
    "collapsed": false
   },
   "outputs": [],
   "source": [
    "# SCORES by season\n",
    "matches_bs = GRADES.reset_index().groupby(['Season', 'Player'])['FantaVoto'].count().to_frame('Matches')\n",
    "no_matches_bs = (38 - matches_bs['Matches']).to_frame('No_Matches')\n",
    "fv_grades_bs = GRADES.reset_index().groupby(['Season', 'Player'])['FantaVoto'].mean().to_frame('Mean_FV')\n",
    "v_grades_bs = GRADES.reset_index().groupby(['Season', 'Player'])['Voto'].mean().to_frame('Mean_V')\n",
    "fv_grades_tot_bs = GRADES.reset_index().groupby(['Season', 'Player'])['FantaVoto'].sum().to_frame('Total_FV')\n",
    "players = GRADES.reset_index()['Player'].unique()\n",
    "roles_bs = GRADES.reset_index().sort_values(['Season', 'Giornata']).groupby(['Season', 'Player'])['Role'].last().to_frame('Role')\n",
    "roles = roles_bs.reset_index().groupby('Player')['Role'].last().to_frame('Role')\n",
    "# roles['Role'] = roles['Role'].map(lambda x:'A' if x=='T' else x)\n",
    "\n",
    "nm_bs = no_matches_bs.reset_index()\n",
    "nm_bs['avg'] = nm_bs.Player.map(roles['Role']).map(average_grades_by_role)\n",
    "nm_bs = nm_bs.set_index(['Season', 'Player'])\n",
    "average_score_bs = ((nm_bs['No_Matches'] * nm_bs['avg'] + fv_grades_tot_bs['Total_FV'])/38.).to_frame('average_score')\n",
    "\n",
    "penalty_by_team_all_bs = GRADES.reset_index().query(\"Role != 'P'\").groupby(['Season', 'Team'])[['R', 'RS']].sum().fillna(0)\n",
    "penalty_by_team_bs = (penalty_by_team_all_bs['R']+penalty_by_team_all_bs['RS']).fillna(0).to_frame('team_penalties')\n",
    "team_players_bs = GRADES.reset_index().sort_values(['Season', 'Giornata']).groupby(['Season', 'Player']).last()['Team']\n",
    "penalty_by_team_for_players_bs = team_players_bs.reset_index()\\\n",
    "    .merge(penalty_by_team_bs.reset_index(), left_on=['Season', 'Team'], right_on=['Season', 'Team'])\\\n",
    "    .set_index(['Season', 'Player'])['team_penalties']\n",
    "penalties_by_player_bs = GRADES[['R', 'RS']].fillna(0).reset_index().groupby(['Season', 'Player'])[['R', 'RS']].sum()\n",
    "total_penalties_bs = penalties_by_player_bs.sum(1).to_frame('Penalties_Kicked')\n",
    "percentage_penalties_scored_bs = (penalties_by_player_bs['R']/total_penalties_bs['Penalties_Kicked']).\\\n",
    "    to_frame('Percentage_Penalties_Scored')\n",
    "percentage_team_penalties_kicked_bs = (total_penalties_bs['Penalties_Kicked'] / penalty_by_team_for_players_bs).\\\n",
    "    to_frame('Percentage_Team_Penalties_Kicked')\n",
    "\n",
    "scores_bs = matches_bs.join(fv_grades_bs, how='outer').join(average_score_bs, how='outer').join(v_grades_bs, how='outer')\\\n",
    "    .join(total_penalties_bs, how='outer').join(percentage_penalties_scored_bs, how='outer')\\\n",
    "    .join(percentage_team_penalties_kicked_bs, how='outer')\\\n",
    "    .reset_index().merge(roles.reset_index(), how='outer', left_on='Player', right_on='Player')\\\n",
    "    .sort_values(['Season', 'Role', 'average_score']).set_index(['Season', 'Role', 'Player'])\n",
    "scores_bs.to_clipboard()\n"
   ]
  },
  {
   "cell_type": "code",
   "execution_count": 75,
   "metadata": {
    "collapsed": true
   },
   "outputs": [],
   "source": [
    "def get_standard_stats(name):\n",
    "    all_players = [str(p) for p in GRADES.reset_index()['Player'].unique().tolist()]\n",
    "    all_players.sort()\n",
    "    players = [player for player in all_players if str(player).find(name)>=0]\n",
    "    if len(players)==1:\n",
    "        full_name = players[0]\n",
    "        pl = Player(full_name)\n",
    "        pl.subplot(['Voto', 'FantaVoto'], figsize=(15,3))\n",
    "        ma = pl.all_grades.reset_index().groupby('Season')['FantaVoto'].count().to_frame('Matches')\n",
    "        gr = pl.all_grades.reset_index().groupby('Season').mean()[['Voto', 'FantaVoto']]\n",
    "        print(', '.join([pl.name, pl.role, pl.current_team, str(int(pl.player_age)), pl.player_nation]))\n",
    "#         print(pl.quotes)\n",
    "        print(ma.join(gr))\n",
    "    else:\n",
    "        print(players)"
   ]
  },
  {
   "cell_type": "code",
   "execution_count": 102,
   "metadata": {
    "collapsed": false
   },
   "outputs": [
    {
     "ename": "TypeError",
     "evalue": "int() argument must be a string, a bytes-like object or a number, not 'NoneType'",
     "output_type": "error",
     "traceback": [
      "\u001b[1;31m---------------------------------------------------------------------------\u001b[0m",
      "\u001b[1;31mTypeError\u001b[0m                                 Traceback (most recent call last)",
      "\u001b[1;32m<ipython-input-102-c79e43cbb4bf>\u001b[0m in \u001b[0;36m<module>\u001b[1;34m()\u001b[0m\n\u001b[0;32m      1\u001b[0m \u001b[0mname\u001b[0m \u001b[1;33m=\u001b[0m \u001b[1;34m'Cutrone'\u001b[0m\u001b[1;33m\u001b[0m\u001b[0m\n\u001b[1;32m----> 2\u001b[1;33m \u001b[0mget_standard_stats\u001b[0m\u001b[1;33m(\u001b[0m\u001b[0mname\u001b[0m\u001b[1;33m)\u001b[0m\u001b[1;33m\u001b[0m\u001b[0m\n\u001b[0m\u001b[0;32m      3\u001b[0m \u001b[1;31m# pl = Player(name)\u001b[0m\u001b[1;33m\u001b[0m\u001b[1;33m\u001b[0m\u001b[0m\n",
      "\u001b[1;32m<ipython-input-75-788ea58cd9b7>\u001b[0m in \u001b[0;36mget_standard_stats\u001b[1;34m(name)\u001b[0m\n\u001b[0;32m      6\u001b[0m         \u001b[0mfull_name\u001b[0m \u001b[1;33m=\u001b[0m \u001b[0mplayers\u001b[0m\u001b[1;33m[\u001b[0m\u001b[1;36m0\u001b[0m\u001b[1;33m]\u001b[0m\u001b[1;33m\u001b[0m\u001b[0m\n\u001b[0;32m      7\u001b[0m         \u001b[0mpl\u001b[0m \u001b[1;33m=\u001b[0m \u001b[0mPlayer\u001b[0m\u001b[1;33m(\u001b[0m\u001b[0mfull_name\u001b[0m\u001b[1;33m)\u001b[0m\u001b[1;33m\u001b[0m\u001b[0m\n\u001b[1;32m----> 8\u001b[1;33m         \u001b[0mpl\u001b[0m\u001b[1;33m.\u001b[0m\u001b[0msubplot\u001b[0m\u001b[1;33m(\u001b[0m\u001b[1;33m[\u001b[0m\u001b[1;34m'Voto'\u001b[0m\u001b[1;33m,\u001b[0m \u001b[1;34m'FantaVoto'\u001b[0m\u001b[1;33m]\u001b[0m\u001b[1;33m,\u001b[0m \u001b[0mfigsize\u001b[0m\u001b[1;33m=\u001b[0m\u001b[1;33m(\u001b[0m\u001b[1;36m15\u001b[0m\u001b[1;33m,\u001b[0m\u001b[1;36m3\u001b[0m\u001b[1;33m)\u001b[0m\u001b[1;33m)\u001b[0m\u001b[1;33m\u001b[0m\u001b[0m\n\u001b[0m\u001b[0;32m      9\u001b[0m         \u001b[0mma\u001b[0m \u001b[1;33m=\u001b[0m \u001b[0mpl\u001b[0m\u001b[1;33m.\u001b[0m\u001b[0mall_grades\u001b[0m\u001b[1;33m.\u001b[0m\u001b[0mreset_index\u001b[0m\u001b[1;33m(\u001b[0m\u001b[1;33m)\u001b[0m\u001b[1;33m.\u001b[0m\u001b[0mgroupby\u001b[0m\u001b[1;33m(\u001b[0m\u001b[1;34m'Season'\u001b[0m\u001b[1;33m)\u001b[0m\u001b[1;33m[\u001b[0m\u001b[1;34m'FantaVoto'\u001b[0m\u001b[1;33m]\u001b[0m\u001b[1;33m.\u001b[0m\u001b[0mcount\u001b[0m\u001b[1;33m(\u001b[0m\u001b[1;33m)\u001b[0m\u001b[1;33m.\u001b[0m\u001b[0mto_frame\u001b[0m\u001b[1;33m(\u001b[0m\u001b[1;34m'Matches'\u001b[0m\u001b[1;33m)\u001b[0m\u001b[1;33m\u001b[0m\u001b[0m\n\u001b[0;32m     10\u001b[0m         \u001b[0mgr\u001b[0m \u001b[1;33m=\u001b[0m \u001b[0mpl\u001b[0m\u001b[1;33m.\u001b[0m\u001b[0mall_grades\u001b[0m\u001b[1;33m.\u001b[0m\u001b[0mreset_index\u001b[0m\u001b[1;33m(\u001b[0m\u001b[1;33m)\u001b[0m\u001b[1;33m.\u001b[0m\u001b[0mgroupby\u001b[0m\u001b[1;33m(\u001b[0m\u001b[1;34m'Season'\u001b[0m\u001b[1;33m)\u001b[0m\u001b[1;33m.\u001b[0m\u001b[0mmean\u001b[0m\u001b[1;33m(\u001b[0m\u001b[1;33m)\u001b[0m\u001b[1;33m[\u001b[0m\u001b[1;33m[\u001b[0m\u001b[1;34m'Voto'\u001b[0m\u001b[1;33m,\u001b[0m \u001b[1;34m'FantaVoto'\u001b[0m\u001b[1;33m]\u001b[0m\u001b[1;33m]\u001b[0m\u001b[1;33m\u001b[0m\u001b[0m\n",
      "\u001b[1;32mC:\\Users\\zuk-8\\Programs\\workspace\\fantacalcio\\src\\fantacalcio\\data\\player.py\u001b[0m in \u001b[0;36msubplot\u001b[1;34m(self, attributes, *args, **kwargs)\u001b[0m\n\u001b[0;32m    136\u001b[0m \u001b[1;33m\u001b[0m\u001b[0m\n\u001b[0;32m    137\u001b[0m     \u001b[1;32mdef\u001b[0m \u001b[0msubplot\u001b[0m\u001b[1;33m(\u001b[0m\u001b[0mself\u001b[0m\u001b[1;33m,\u001b[0m \u001b[0mattributes\u001b[0m\u001b[1;33m,\u001b[0m \u001b[1;33m*\u001b[0m\u001b[0margs\u001b[0m\u001b[1;33m,\u001b[0m \u001b[1;33m**\u001b[0m\u001b[0mkwargs\u001b[0m\u001b[1;33m)\u001b[0m\u001b[1;33m:\u001b[0m\u001b[1;33m\u001b[0m\u001b[0m\n\u001b[1;32m--> 138\u001b[1;33m         \u001b[0mtitle\u001b[0m \u001b[1;33m=\u001b[0m \u001b[0mself\u001b[0m\u001b[1;33m.\u001b[0m\u001b[0m__repr__\u001b[0m\u001b[1;33m(\u001b[0m\u001b[1;33m)\u001b[0m\u001b[1;33m[\u001b[0m\u001b[1;36m1\u001b[0m\u001b[1;33m:\u001b[0m\u001b[1;33m-\u001b[0m\u001b[1;36m1\u001b[0m\u001b[1;33m]\u001b[0m\u001b[1;33m\u001b[0m\u001b[0m\n\u001b[0m\u001b[0;32m    139\u001b[0m         \u001b[0mlines\u001b[0m \u001b[1;33m=\u001b[0m \u001b[0mself\u001b[0m\u001b[1;33m.\u001b[0m\u001b[0mall_stats\u001b[0m\u001b[1;33m[\u001b[0m\u001b[0mattributes\u001b[0m\u001b[1;33m]\u001b[0m\u001b[1;33m\u001b[0m\u001b[0m\n\u001b[0;32m    140\u001b[0m         \u001b[0mseasons\u001b[0m \u001b[1;33m=\u001b[0m \u001b[0mlines\u001b[0m\u001b[1;33m.\u001b[0m\u001b[0mreset_index\u001b[0m\u001b[1;33m(\u001b[0m\u001b[1;33m)\u001b[0m\u001b[1;33m.\u001b[0m\u001b[0mSeason\u001b[0m\u001b[1;33m.\u001b[0m\u001b[0munique\u001b[0m\u001b[1;33m(\u001b[0m\u001b[1;33m)\u001b[0m\u001b[1;33m.\u001b[0m\u001b[0mtolist\u001b[0m\u001b[1;33m(\u001b[0m\u001b[1;33m)\u001b[0m\u001b[1;33m\u001b[0m\u001b[0m\n",
      "\u001b[1;32mC:\\Users\\zuk-8\\Programs\\workspace\\fantacalcio\\src\\fantacalcio\\data\\player.py\u001b[0m in \u001b[0;36m__repr__\u001b[1;34m(self)\u001b[0m\n\u001b[0;32m     41\u001b[0m \u001b[1;33m\u001b[0m\u001b[0m\n\u001b[0;32m     42\u001b[0m     \u001b[1;32mdef\u001b[0m \u001b[0m__repr__\u001b[0m\u001b[1;33m(\u001b[0m\u001b[0mself\u001b[0m\u001b[1;33m)\u001b[0m\u001b[1;33m:\u001b[0m\u001b[1;33m\u001b[0m\u001b[0m\n\u001b[1;32m---> 43\u001b[1;33m         \u001b[1;32mreturn\u001b[0m \u001b[1;34m'<Player: {n}, {y}, {r} at {t}>'\u001b[0m\u001b[1;33m.\u001b[0m\u001b[0mformat\u001b[0m\u001b[1;33m(\u001b[0m\u001b[0mn\u001b[0m\u001b[1;33m=\u001b[0m\u001b[0mself\u001b[0m\u001b[1;33m.\u001b[0m\u001b[0mname\u001b[0m\u001b[1;33m,\u001b[0m \u001b[0my\u001b[0m\u001b[1;33m=\u001b[0m\u001b[0mint\u001b[0m\u001b[1;33m(\u001b[0m\u001b[0mself\u001b[0m\u001b[1;33m.\u001b[0m\u001b[0mplayer_age\u001b[0m\u001b[1;33m)\u001b[0m\u001b[1;33m,\u001b[0m \u001b[0mr\u001b[0m\u001b[1;33m=\u001b[0m\u001b[0mself\u001b[0m\u001b[1;33m.\u001b[0m\u001b[0mrole\u001b[0m\u001b[1;33m,\u001b[0m \u001b[0mt\u001b[0m\u001b[1;33m=\u001b[0m\u001b[0mself\u001b[0m\u001b[1;33m.\u001b[0m\u001b[0mcurrent_team\u001b[0m\u001b[1;33m)\u001b[0m\u001b[1;33m\u001b[0m\u001b[0m\n\u001b[0m\u001b[0;32m     44\u001b[0m \u001b[1;33m\u001b[0m\u001b[0m\n\u001b[0;32m     45\u001b[0m     \u001b[1;33m@\u001b[0m\u001b[0mproperty\u001b[0m\u001b[1;33m\u001b[0m\u001b[0m\n",
      "\u001b[1;31mTypeError\u001b[0m: int() argument must be a string, a bytes-like object or a number, not 'NoneType'"
     ]
    }
   ],
   "source": [
    "name = 'Cutrone'\n",
    "get_standard_stats(name)\n",
    "# pl = Player(name)"
   ]
  }
 ],
 "metadata": {
  "anaconda-cloud": {},
  "kernelspec": {
   "display_name": "Python [conda env:standard]",
   "language": "python",
   "name": "conda-env-standard-py"
  },
  "language_info": {
   "codemirror_mode": {
    "name": "ipython",
    "version": 3
   },
   "file_extension": ".py",
   "mimetype": "text/x-python",
   "name": "python",
   "nbconvert_exporter": "python",
   "pygments_lexer": "ipython3",
   "version": "3.6.1"
  }
 },
 "nbformat": 4,
 "nbformat_minor": 1
}
