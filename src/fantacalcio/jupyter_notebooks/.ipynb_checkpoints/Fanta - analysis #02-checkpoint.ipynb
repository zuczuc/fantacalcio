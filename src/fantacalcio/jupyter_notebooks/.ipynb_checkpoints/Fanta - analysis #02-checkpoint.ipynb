{
 "cells": [
  {
   "cell_type": "code",
   "execution_count": 1,
   "metadata": {
    "collapsed": false
   },
   "outputs": [],
   "source": [
    "import os\n",
    "import sys\n",
    "import pandas as pd\n",
    "import matplotlib.pyplot as plt\n",
    "import seaborn as sns\n",
    "\n",
    "%matplotlib inline\n",
    "\n",
    "sys.path.append(\"C:\\\\Users\\\\zuk-8\\\\Programs\\\\workspace\\\\fantacalcio\\\\src\")\n",
    "# sys.path.append(\"C:\\\\Users\\\\zuk-8\\\\Programs\\\\workspace\\\\fantacalcio\\\\src\\\\fantacalcio\")\n",
    "# sys.path.append(\"C:\\\\Users\\\\zuk-8\\\\Programs\\\\workspace\\\\fantacalcio\\\\src\\\\fantacalcio\\\\config_data\")\n",
    "# sys.path.append(\"C:\\\\Users\\\\zuk-8\\\\Programs\\\\workspace\\\\fantacalcio\\\\src\\\\fantacalcio\\\\data\")\n",
    "\n",
    "from fantacalcio.config_data.config_data import FOLDER_FANTA_INPUT, FANTA_GRADES_FN, FANTA_QUOTES_FN, FANTA_REMAP_FN\n",
    "from fantacalcio.data.general import canceled_matches_grades_to_nan, remap_players\n",
    "from fantacalcio.data.player import Player"
   ]
  },
  {
   "cell_type": "code",
   "execution_count": 2,
   "metadata": {
    "collapsed": false
   },
   "outputs": [],
   "source": [
    "# INPUTS\n",
    "average_grades_by_role = pd.Series({'P':4.5, 'D':5.5, 'C':5.75, 'T':6.2, 'A':6.4})"
   ]
  },
  {
   "cell_type": "code",
   "execution_count": 3,
   "metadata": {
    "collapsed": false
   },
   "outputs": [
    {
     "name": "stderr",
     "output_type": "stream",
     "text": [
      "C:\\Users\\zuk-8\\Programs\\Anaconda3\\envs\\standard\\lib\\site-packages\\ipykernel\\__main__.py:9: DeprecationWarning: \n",
      ".ix is deprecated. Please use\n",
      ".loc for label based indexing or\n",
      ".iloc for positional indexing\n",
      "\n",
      "See the documentation here:\n",
      "http://pandas.pydata.org/pandas-docs/stable/indexing.html#deprecate_ix\n",
      "C:\\Users\\zuk-8\\Programs\\Anaconda3\\envs\\standard\\lib\\site-packages\\ipykernel\\ipkernel.py:196: PerformanceWarning: indexing past lexsort depth may impact performance.\n",
      "  res = shell.run_cell(code, store_history=store_history, silent=silent)\n"
     ]
    }
   ],
   "source": [
    "# DATA\n",
    "GRADES = canceled_matches_grades_to_nan(pd.read_csv(os.path.join(FOLDER_FANTA_INPUT[os.environ['USERNAME']], FANTA_GRADES_FN)))\n",
    "REMAP_PLAYERS = pd.read_csv(os.path.join(FOLDER_FANTA_INPUT[os.environ['USERNAME']], FANTA_REMAP_FN)).set_index('Original')['Final'].to_dict()\n",
    "GRADES = remap_players(GRADES, REMAP_PLAYERS)\n",
    "\n",
    "# Penalties:\n",
    "# 'R'  is the number of scored penalties\n",
    "# 'RS' is the number of missed penalties, only for players and not for gks\n",
    "penalty_y = GRADES.ix[~GRADES['R'].map(pd.np.isnan)]\n",
    "penalty_n = GRADES.ix[~GRADES['RS'].map(pd.np.isnan)]\n",
    "GRADES = GRADES.set_value(penalty_y.index, col=['FantaVoto'], value=penalty_y['FantaVoto']-penalty_y['R']*3)\n",
    "GRADES = GRADES.set_value(penalty_n.index, col=['FantaVoto'], value=penalty_y['FantaVoto']+penalty_y['RS']*3)\n"
   ]
  },
  {
   "cell_type": "code",
   "execution_count": 4,
   "metadata": {
    "collapsed": false
   },
   "outputs": [],
   "source": [
    "# SCORES by season\n",
    "matches_bs = GRADES.reset_index().groupby(['Season', 'Player'])['FantaVoto'].count().to_frame('Matches')\n",
    "no_matches_bs = (38 - matches_bs['Matches']).to_frame('No_Matches')\n",
    "fv_grades_bs = GRADES.reset_index().groupby(['Season', 'Player'])['FantaVoto'].mean().to_frame('Mean_FV')\n",
    "v_grades_bs = GRADES.reset_index().groupby(['Season', 'Player'])['Voto'].mean().to_frame('Mean_V')\n",
    "fv_grades_tot_bs = GRADES.reset_index().groupby(['Season', 'Player'])['FantaVoto'].sum().to_frame('Total_FV')\n",
    "players = GRADES.reset_index()['Player'].unique()\n",
    "roles_bs = GRADES.reset_index().sort_values(['Season', 'Giornata']).groupby(['Season', 'Player'])['Role'].last().to_frame('Role')\n",
    "roles = roles_bs.reset_index().groupby('Player')['Role'].last().to_frame('Role')\n",
    "roles['Role'] = roles['Role'].map(lambda x:'A' if x=='T' else x)\n",
    "\n",
    "nm_bs = no_matches_bs.reset_index()\n",
    "nm_bs['avg'] = nm_bs.Player.map(roles['Role']).map(average_grades_by_role)\n",
    "nm_bs = nm_bs.set_index(['Season', 'Player'])\n",
    "average_score_bs = ((nm_bs['No_Matches'] * nm_bs['avg'] + fv_grades_tot_bs['Total_FV'])/38.).to_frame('average_score')\n",
    "\n",
    "penalty_by_team_all_bs = GRADES.reset_index().query(\"Role != 'P'\").groupby(['Season', 'Team'])[['R', 'RS']].sum().fillna(0)\n",
    "penalty_by_team_bs = (penalty_by_team_all_bs['R']+penalty_by_team_all_bs['RS']).fillna(0).to_frame('team_penalties')\n",
    "team_players_bs = GRADES.reset_index().sort_values(['Season', 'Giornata']).groupby(['Season', 'Player']).last()['Team']\n",
    "penalty_by_team_for_players_bs = team_players_bs.reset_index()\\\n",
    "    .merge(penalty_by_team_bs.reset_index(), left_on=['Season', 'Team'], right_on=['Season', 'Team'])\\\n",
    "    .set_index(['Season', 'Player'])['team_penalties']\n",
    "penalties_by_player_bs = GRADES[['R', 'RS']].fillna(0).reset_index().groupby(['Season', 'Player'])[['R', 'RS']].sum()\n",
    "total_penalties_bs = penalties_by_player_bs.sum(1).to_frame('Penalties_Kicked')\n",
    "percentage_penalties_scored_bs = (penalties_by_player_bs['R']/total_penalties_bs['Penalties_Kicked']).\\\n",
    "    to_frame('Percentage_Penalties_Scored')\n",
    "percentage_team_penalties_kicked_bs = (total_penalties_bs['Penalties_Kicked'] / penalty_by_team_for_players_bs).\\\n",
    "    to_frame('Percentage_Team_Penalties_Kicked')\n",
    "\n",
    "scores_bs = matches_bs.join(fv_grades_bs, how='outer').join(average_score_bs, how='outer').join(v_grades_bs, how='outer')\\\n",
    "    .join(total_penalties_bs, how='outer').join(percentage_penalties_scored_bs, how='outer')\\\n",
    "    .join(percentage_team_penalties_kicked_bs, how='outer')\\\n",
    "    .reset_index().merge(roles.reset_index(), how='outer', left_on='Player', right_on='Player')\\\n",
    "    .sort_values(['Season', 'Role', 'average_score']).set_index(['Season', 'Role', 'Player'])\n",
    "scores_bs.to_clipboard()\n"
   ]
  },
  {
   "cell_type": "code",
   "execution_count": null,
   "metadata": {
    "collapsed": true
   },
   "outputs": [],
   "source": [
    "def get_standard_stats(name):\n",
    "    all_players = [str(p) for p in GRADES.reset_index()['Player'].unique().tolist()]\n",
    "    all_players.sort()\n",
    "    players = [player for player in all_players if str(player).find(name)>=0]\n",
    "    if len(players)==1:\n",
    "        full_name = players[0]\n",
    "        pl = Player(full_name)\n",
    "        pl.plot(['Voto', 'FantaVoto'], figsize=(15,6))\n",
    "        ma = pl.all_grades.reset_index().groupby('Season')['FantaVoto'].count().to_frame('Matches')\n",
    "        gr = pl.all_grades.reset_index().groupby('Season').mean()[['Voto', 'FantaVoto']]\n",
    "        print(', '.join([pl.current_team, str(int(pl.player_age)), pl.player_nation]))\n",
    "        print(ma.join(gr))\n",
    "    else:\n",
    "        print(players)"
   ]
  },
  {
   "cell_type": "code",
   "execution_count": 22,
   "metadata": {
    "collapsed": false
   },
   "outputs": [
    {
     "name": "stdout",
     "output_type": "stream",
     "text": [
      "Milan, 30, Argentina\n",
      "        Matches      Voto  FantaVoto\n",
      "Season                              \n",
      "2014.0       37  6.027027   7.229730\n",
      "2015.0       35  6.985714  10.085714\n",
      "2016.0       37  6.391892   8.324324\n",
      "2017.0       32  6.109375   7.421875\n"
     ]
    },
    {
     "data": {
      "image/png": "[encoded data removed]",
      "text/plain": [
       "<matplotlib.figure.Figure at 0xb38e290>"
      ]
     },
     "metadata": {},
     "output_type": "display_data"
    }
   ],
   "source": [
    "get_standard_stats('Higuain')"
   ]
  }
 ],
 "metadata": {
  "anaconda-cloud": {},
  "kernelspec": {
   "display_name": "Python [conda env:standard]",
   "language": "python",
   "name": "conda-env-standard-py"
  },
  "language_info": {
   "codemirror_mode": {
    "name": "ipython",
    "version": 3
   },
   "file_extension": ".py",
   "mimetype": "text/x-python",
   "name": "python",
   "nbconvert_exporter": "python",
   "pygments_lexer": "ipython3",
   "version": "3.6.1"
  }
 },
 "nbformat": 4,
 "nbformat_minor": 1
}
